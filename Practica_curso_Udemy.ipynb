{
  "nbformat": 4,
  "nbformat_minor": 0,
  "metadata": {
    "colab": {
      "provenance": [],
      "authorship_tag": "ABX9TyMU+FNCwrpPWjCpd0mDqbxD",
      "include_colab_link": true
    },
    "kernelspec": {
      "name": "python3",
      "display_name": "Python 3"
    },
    "language_info": {
      "name": "python"
    }
  },
  "cells": [
    {
      "cell_type": "markdown",
      "metadata": {
        "id": "view-in-github",
        "colab_type": "text"
      },
      "source": [
        "<a href=\"https://colab.research.google.com/github/joelopex/Repositorio/blob/main/Practica_curso_Udemy.ipynb\" target=\"_parent\"><img src=\"https://colab.research.google.com/assets/colab-badge.svg\" alt=\"Open In Colab\"/></a>"
      ]
    },
    {
      "cell_type": "code",
      "execution_count": 1,
      "metadata": {
        "id": "O4D0uqAuBoC_"
      },
      "outputs": [],
      "source": [
        "class ClaseSilla:\n",
        "  color = \"blanco\"\n",
        "  precio = 100"
      ]
    },
    {
      "cell_type": "code",
      "source": [
        "objetoSilla1 = ClaseSilla()"
      ],
      "metadata": {
        "id": "W4qAxKAmCBZO"
      },
      "execution_count": 2,
      "outputs": []
    }
  ]
}